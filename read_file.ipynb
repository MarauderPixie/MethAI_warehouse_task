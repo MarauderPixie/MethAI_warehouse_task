{
 "cells": [
  {
   "cell_type": "markdown",
   "metadata": {},
   "source": [
    "# Progamming Task Methods of AI\n",
    "\n",
    "**GOAL:**  \n",
    "We want to select a psu carrying as many items as possible of our order.\n",
    "\n",
    "find items in problem:\n",
    "first line all the items there are but without numbers in stock\n",
    "each line is one psu and whats inside, seperated by comma"
   ]
  },
  {
   "cell_type": "code",
   "execution_count": 1,
   "metadata": {},
   "outputs": [],
   "source": [
    "# important importing:\n",
    "# import qt\n",
    "import numpy as np"
   ]
  },
  {
   "cell_type": "markdown",
   "metadata": {},
   "source": [
    "## read files"
   ]
  },
  {
   "cell_type": "code",
   "execution_count": 2,
   "metadata": {},
   "outputs": [
    {
     "name": "stdout",
     "output_type": "stream",
     "text": [
      "['']\n",
      "['magic-tv', 'magic-laptop', 'magic-phone', 'magic-computer', 'magic-air-conditioning', 'magic-dvd-player', 'magic-cd-player', 'magic-record-player', 'magic-keyboard', 'magic-mouse', 'magic-washer', 'magic-dryer', 'magic-oven', 'magic-camera', 'magic-headphone', 'magic-phone-charger', 'magic-laptop-charger', 'magic-camera-charger', 'magic-phone-battery', 'magic-laptop-battery', 'magic-camera-battery', 'magic-webcam', 'super-tv', 'super-laptop', 'super-phone', 'super-computer', 'super-air-conditioning', 'super-dvd-player', 'super-cd-player', 'super-record-player', 'super-keyboard', 'super-mouse', 'super-washer', 'super-dryer', 'super-oven', 'super-camera', 'super-headphone', 'super-phone-charger', 'super-laptop-charger', 'super-camera-charger', 'super-phone-battery', 'super-laptop-battery', 'super-camera-battery', 'super-webcam', 'trendy-tv', 'trendy-laptop', 'trendy-phone', 'trendy-computer', 'trendy-air-conditioning', 'trendy-dvd-player', 'trendy-cd-player', 'trendy-record-player', 'trendy-keyboard', 'trendy-mouse', 'trendy-washer', 'trendy-dryer', 'trendy-oven', 'trendy-camera', 'trendy-headphone', 'trendy-phone-charger', 'trendy-laptop-charger', 'trendy-camera-charger', 'trendy-phone-battery', 'trendy-laptop-battery', 'trendy-camera-battery', 'trendy-webcam', 'hip-tv', 'hip-laptop', 'hip-phone', 'hip-computer', 'hip-air-conditioning', 'hip-dvd-player', 'hip-cd-player', 'hip-record-player', 'hip-keyboard', 'hip-mouse', 'hip-washer', 'hip-dryer', 'hip-oven', 'hip-camera', 'hip-headphone', 'hip-phone-charger', 'hip-laptop-charger', 'hip-camera-charger', 'hip-phone-battery', 'hip-laptop-battery', 'hip-camera-battery', 'hip-webcam', 'famous-tv', 'famous-laptop', 'famous-phone', 'famous-computer', 'famous-air-conditioning', 'famous-dvd-player', 'famous-cd-player', 'famous-record-player', 'famous-keyboard', 'famous-mouse', 'famous-washer', 'famous-dryer', 'famous-oven', 'famous-camera', 'famous-headphone', 'famous-phone-charger', 'famous-laptop-charger', 'famous-camera-charger', 'famous-phone-battery', 'famous-laptop-battery', 'famous-camera-battery', 'famous-webcam', 'infamous-tv', 'infamous-laptop', 'infamous-phone', 'infamous-computer', 'infamous-air-conditioning', 'infamous-dvd-player', 'infamous-cd-player', 'infamous-record-player', 'infamous-keyboard', 'infamous-mouse', 'infamous-washer', 'infamous-dryer', 'infamous-oven', 'infamous-camera', 'infamous-headphone', 'infamous-phone-charger', 'infamous-laptop-charger', 'infamous-camera-charger', 'infamous-phone-battery', 'infamous-laptop-battery', 'infamous-camera-battery', 'infamous-webcam', 'extraordinary-tv', 'extraordinary-laptop', 'extraordinary-phone', 'extraordinary-computer', 'extraordinary-air-conditioning', 'extraordinary-dvd-player', 'extraordinary-cd-player', 'extraordinary-record-player', 'extraordinary-keyboard', 'extraordinary-mouse', 'extraordinary-washer', 'extraordinary-dryer', 'extraordinary-oven', 'extraordinary-camera', 'extraordinary-headphone', 'extraordinary-phone-charger', 'extraordinary-laptop-charger', 'extraordinary-camera-charger', 'extraordinary-phone-battery', 'extraordinary-laptop-battery', 'extraordinary-camera-battery', 'extraordinary-webcam', 'superextraordinary-tv', 'superextraordinary-laptop', 'superextraordinary-phone', 'superextraordinary-computer', 'superextraordinary-air-conditioning', 'superextraordinary-dvd-player', 'superextraordinary-cd-player', 'superextraordinary-record-player', 'superextraordinary-keyboard', 'superextraordinary-mouse', 'superextraordinary-washer', 'superextraordinary-dryer', 'superextraordinary-oven', 'superextraordinary-camera', 'superextraordinary-headphone', 'superextraordinary-phone-charger', 'superextraordinary-laptop-charger', 'superextraordinary-camera-charger', 'superextraordinary-phone-battery', 'superextraordinary-laptop-battery', 'superextraordinary-camera-battery', 'superextraordinary-webcam', 'superordinary-tv', 'superordinary-laptop', 'superordinary-phone', 'superordinary-computer', 'superordinary-air-conditioning', 'superordinary-dvd-player', 'superordinary-cd-player', 'superordinary-record-player', 'superordinary-keyboard', 'superordinary-mouse', 'superordinary-washer', 'superordinary-dryer', 'superordinary-oven', 'superordinary-camera', 'superordinary-headphone', 'superordinary-phone-charger', 'superordinary-laptop-charger', 'superordinary-camera-charger', 'superordinary-phone-battery', 'superordinary-laptop-battery', 'superordinary-camera-battery', 'superordinary-webcam', 'superfamous-tv', 'superfamous-laptop', 'superfamous-phone', 'superfamous-computer', 'superfamous-air-conditioning', 'superfamous-dvd-player', 'superfamous-cd-player', 'superfamous-record-player', 'superfamous-keyboard', 'superfamous-mouse', 'superfamous-washer', 'superfamous-dryer', 'superfamous-oven', 'superfamous-camera', 'superfamous-headphone', 'superfamous-phone-charger', 'superfamous-laptop-charger', 'superfamous-camera-charger', 'superfamous-phone-battery', 'superfamous-laptop-battery', 'superfamous-camera-battery', 'superfamous-webcam', 'awesome-tv', 'awesome-laptop', 'awesome-phone', 'awesome-computer', 'awesome-air-conditioning', 'awesome-dvd-player', 'awesome-cd-player', 'awesome-record-player', 'awesome-keyboard', 'awesome-mouse', 'awesome-washer', 'awesome-dryer', 'awesome-oven', 'awesome-camera', 'awesome-headphone', 'awesome-phone-charger', 'awesome-laptop-charger', 'awesome-camera-charger', 'awesome-phone-battery', 'awesome-laptop-battery', 'awesome-camera-battery', 'awesome-webcam', 'magnificient-tv', 'magnificient-laptop', 'magnificient-phone', 'magnificient-computer', 'magnificient-air-conditioning', 'magnificient-dvd-player', 'magnificient-cd-player', 'magnificient-record-player', 'magnificient-keyboard', 'magnificient-mouse', 'magnificient-washer', 'magnificient-dryer', 'magnificient-oven', 'magnificient-camera', 'magnificient-headphone', 'magnificient-phone-charger', 'magnificient-laptop-charger', 'magnificient-camera-charger', 'magnificient-phone-battery', 'magnificient-laptop-battery', 'magnificient-camera-battery', 'magnificient-webcam', 'glamorous-tv', 'glamorous-laptop', 'glamorous-phone', 'glamorous-computer', 'glamorous-air-conditioning', 'glamorous-dvd-player', 'glamorous-cd-player', 'glamorous-record-player', 'glamorous-keyboard', 'glamorous-mouse', 'glamorous-washer', 'glamorous-dryer', 'glamorous-oven', 'glamorous-camera', 'glamorous-headphone', 'glamorous-phone-charger', 'glamorous-laptop-charger', 'glamorous-camera-charger', 'glamorous-phone-battery', 'glamorous-laptop-battery', 'glamorous-camera-battery', 'glamorous-webcam']\n"
     ]
    }
   ],
   "source": [
    "# 1. read in the text file with the warehouse information\n",
    "warehouse = []\n",
    "for line in open(\"data/problem1.txt\"):\n",
    "        psu = line.strip().split(\" \")\n",
    "        warehouse.append(psu)\n",
    "        \n",
    "stock = warehouse[0]        # the first line, what is in stock\n",
    "warehouse = warehouse[1:]   # now we have a list of the psus\n",
    "# print(warehouse[0])\n",
    "# print(stock)"
   ]
  },
  {
   "cell_type": "code",
   "execution_count": 52,
   "metadata": {},
   "outputs": [
    {
     "name": "stdout",
     "output_type": "stream",
     "text": [
      "order 11:\n",
      " ['magic-tv', 'magnificient-computer', 'trendy-mouse', 'hip-keyboard', 'awesome-phone-battery', 'awesome-laptop-battery', 'infamous-laptop-charger', 'magic-dryer'] \n",
      "\n",
      "order 12:\n",
      " ['magic-headphone', 'superextraordinary-headphone', 'famous-tv', 'glamorous-tv', 'hip-tv', 'magic-tv', 'super-dvd-player', 'superfamous-mouse', 'magnificient-mouse', 'glamorous-webcam', 'magnificient-oven', 'infamous-camera']\n"
     ]
    }
   ],
   "source": [
    "# store orders in lists\n",
    "for item in open(\"data/order11.txt\"):\n",
    "    order11 = item.split(\" \")\n",
    "    \n",
    "for item in open(\"data/order12.txt\"):\n",
    "    order12 = item.split(\" \")\n",
    "    \n",
    "print(\"order 11:\\n\", order11, \"\\n\")\n",
    "print(\"order 12:\\n\", order12)"
   ]
  },
  {
   "cell_type": "markdown",
   "metadata": {},
   "source": [
    "## create dictionary\n",
    "\n",
    "and translate item names to numbers"
   ]
  },
  {
   "cell_type": "code",
   "execution_count": 4,
   "metadata": {},
   "outputs": [],
   "source": [
    "dictionary = {}\n",
    "# i: int\n",
    "for i in enumerate(stock):\n",
    "    dictionary[stock[i]] = i+1\n",
    "# print(dictionary) \n",
    "\n",
    "# convert the items in the PSUs to Numbers. \n",
    "def translate_stock(word_list, dictionary):\n",
    "    new_list = [[dictionary.get(item, item) for item in lst] for lst in word_list]\n",
    "    return new_list\n",
    "\n",
    "num_warehouse = translate_stock(warehouse, dictionary)\n",
    "# print(num_warehouse)"
   ]
  },
  {
   "cell_type": "markdown",
   "metadata": {},
   "source": [
    "### translate orders"
   ]
  },
  {
   "cell_type": "code",
   "execution_count": 5,
   "metadata": {},
   "outputs": [],
   "source": [
    "def translate_order(word_list, dictionary):\n",
    "    new_list = [dictionary.get(item) for item in word_list]\n",
    "    return new_list\n",
    "\n",
    "num_order11 = translate_order(order11, dictionary)\n",
    "num_order12 = translate_order(order12, dictionary)"
   ]
  },
  {
   "cell_type": "markdown",
   "metadata": {},
   "source": [
    "# Build neighborhood"
   ]
  },
  {
   "cell_type": "code",
   "execution_count": 50,
   "metadata": {},
   "outputs": [
    {
     "name": "stdout",
     "output_type": "stream",
     "text": [
      "[15, 34, 41, 42, 53, 57, 97, 123, 133, 137, 143, 149, 163, 171, 174, 177, 184, 190, 194, 196, 199, 210, 211, 224, 238, 242, 279, 294, 330, 336, 343, 346, 375, 379, 386, 387, 394, 402, 412, 418, 433, 438, 454, 461, 462, 483, 495, 498, 504, 507, 515, 521, 531, 551, 588, 589, 618, 626, 633, 647, 655, 678, 680, 687, 701, 717, 734, 750, 756, 757, 759, 763, 764, 765, 769, 780, 783, 793, 794, 800, 803, 804, 808, 822, 828, 836, 850, 852, 869, 880, 881, 884, 886, 897, 912, 922, 924, 927, 928, 940, 944, 951, 981, 989]\n"
     ]
    }
   ],
   "source": [
    "## define function to get only those PSUs containing at least one of the ordered items\n",
    "def get_relevant_psus(order, PSU):\n",
    "    psu_list = []\n",
    "    for rob in PSU:\n",
    "        bob = [item for item in rob if item in order]\n",
    "        psu_list.append(bob)\n",
    "    return psu_list\n",
    "\n",
    "\n",
    "## call function on order\n",
    "relevant = get_relevant_psus(num_order11, num_warehouse)\n",
    "# print(interesting)\n",
    "\n",
    "## get indices of relevant PSUs and remove \"empty\" PSUs from list\n",
    "psu_index = [i for i, j in enumerate(relevant) if j]\n",
    "relevant  = list(filter(None, relevant))\n",
    "# print(interesting)"
   ]
  }
 ],
 "metadata": {
  "kernelspec": {
   "display_name": "Python 3",
   "language": "python",
   "name": "python3"
  },
  "language_info": {
   "codemirror_mode": {
    "name": "ipython",
    "version": 3
   },
   "file_extension": ".py",
   "mimetype": "text/x-python",
   "name": "python",
   "nbconvert_exporter": "python",
   "pygments_lexer": "ipython3",
   "version": "3.6.5"
  }
 },
 "nbformat": 4,
 "nbformat_minor": 2
}
